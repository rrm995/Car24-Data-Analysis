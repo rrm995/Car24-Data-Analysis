{
  "nbformat": 4,
  "nbformat_minor": 0,
  "metadata": {
    "colab": {
      "provenance": []
    },
    "kernelspec": {
      "name": "python3",
      "display_name": "Python 3"
    },
    "language_info": {
      "name": "python"
    }
  },
  "cells": [
    {
      "cell_type": "code",
      "source": [
        "import pandas as pd\n",
        "import numpy as np"
      ],
      "metadata": {
        "id": "_VEitpAEUK6s"
      },
      "execution_count": null,
      "outputs": []
    },
    {
      "cell_type": "code",
      "source": [
        "df= pd.read_csv('car_data.csv')"
      ],
      "metadata": {
        "id": "j_SavLqLUZZd"
      },
      "execution_count": null,
      "outputs": []
    },
    {
      "cell_type": "code",
      "source": [
        "df.head()"
      ],
      "metadata": {
        "colab": {
          "base_uri": "https://localhost:8080/",
          "height": 347
        },
        "id": "PsE7t8loUgQu",
        "outputId": "d91c7ccf-8cc5-4189-ad51-1454a19e6ecb"
      },
      "execution_count": null,
      "outputs": [
        {
          "output_type": "execute_result",
          "data": {
            "text/plain": [
              "   Car_Model    Brand Car_Name           Car_Variant Car_Transmission  \\\n",
              "0       2016   Maruti     Alto               800 LXI           Manual   \n",
              "1       2019  Hyundai    Verna           1.6 VTVT SX           Manual   \n",
              "2       2015  Hyundai    Elite         i20 MAGNA 1.2           Manual   \n",
              "3       2019   Maruti  Celerio                   VXI           Manual   \n",
              "4       2022  Hyundai    Creta  SX (O) 1.4 TURBO DCT        Automatic   \n",
              "\n",
              "   KM_Driven Owner_Type Fuel_Type Registration_ID  Monthly_EMI  \\\n",
              "0      97698  2nd Owner    Petrol      HR72-C5902         4712   \n",
              "1      55921  2nd Owner    Petrol     UP78-FQ7577        15542   \n",
              "2      66663  1st Owner    Petrol     DL10-CS7599         8719   \n",
              "3      63194  1st Owner    Petrol     HR29-AT5606         7937   \n",
              "4      40368  1st Owner    Petrol     UP15-DR5501        32149   \n",
              "\n",
              "   Car_Price(lakh)  Downpayment_Amount                   Location  \n",
              "0             2.41                   0          Chhatarpur, Delhi  \n",
              "1             7.95                   0          Raj Nagar , Delhi  \n",
              "2             4.46                   0  Golf Course Ext Rd, Delhi  \n",
              "3             4.06                   0  Golf Course Ext Rd, Delhi  \n",
              "4            16.89                   0          Raj Nagar , Delhi  "
            ],
            "text/html": [
              "\n",
              "  <div id=\"df-1775c967-8514-4fc5-9c18-4e721dc4af60\" class=\"colab-df-container\">\n",
              "    <div>\n",
              "<style scoped>\n",
              "    .dataframe tbody tr th:only-of-type {\n",
              "        vertical-align: middle;\n",
              "    }\n",
              "\n",
              "    .dataframe tbody tr th {\n",
              "        vertical-align: top;\n",
              "    }\n",
              "\n",
              "    .dataframe thead th {\n",
              "        text-align: right;\n",
              "    }\n",
              "</style>\n",
              "<table border=\"1\" class=\"dataframe\">\n",
              "  <thead>\n",
              "    <tr style=\"text-align: right;\">\n",
              "      <th></th>\n",
              "      <th>Car_Model</th>\n",
              "      <th>Brand</th>\n",
              "      <th>Car_Name</th>\n",
              "      <th>Car_Variant</th>\n",
              "      <th>Car_Transmission</th>\n",
              "      <th>KM_Driven</th>\n",
              "      <th>Owner_Type</th>\n",
              "      <th>Fuel_Type</th>\n",
              "      <th>Registration_ID</th>\n",
              "      <th>Monthly_EMI</th>\n",
              "      <th>Car_Price(lakh)</th>\n",
              "      <th>Downpayment_Amount</th>\n",
              "      <th>Location</th>\n",
              "    </tr>\n",
              "  </thead>\n",
              "  <tbody>\n",
              "    <tr>\n",
              "      <th>0</th>\n",
              "      <td>2016</td>\n",
              "      <td>Maruti</td>\n",
              "      <td>Alto</td>\n",
              "      <td>800 LXI</td>\n",
              "      <td>Manual</td>\n",
              "      <td>97698</td>\n",
              "      <td>2nd Owner</td>\n",
              "      <td>Petrol</td>\n",
              "      <td>HR72-C5902</td>\n",
              "      <td>4712</td>\n",
              "      <td>2.41</td>\n",
              "      <td>0</td>\n",
              "      <td>Chhatarpur, Delhi</td>\n",
              "    </tr>\n",
              "    <tr>\n",
              "      <th>1</th>\n",
              "      <td>2019</td>\n",
              "      <td>Hyundai</td>\n",
              "      <td>Verna</td>\n",
              "      <td>1.6 VTVT SX</td>\n",
              "      <td>Manual</td>\n",
              "      <td>55921</td>\n",
              "      <td>2nd Owner</td>\n",
              "      <td>Petrol</td>\n",
              "      <td>UP78-FQ7577</td>\n",
              "      <td>15542</td>\n",
              "      <td>7.95</td>\n",
              "      <td>0</td>\n",
              "      <td>Raj Nagar , Delhi</td>\n",
              "    </tr>\n",
              "    <tr>\n",
              "      <th>2</th>\n",
              "      <td>2015</td>\n",
              "      <td>Hyundai</td>\n",
              "      <td>Elite</td>\n",
              "      <td>i20 MAGNA 1.2</td>\n",
              "      <td>Manual</td>\n",
              "      <td>66663</td>\n",
              "      <td>1st Owner</td>\n",
              "      <td>Petrol</td>\n",
              "      <td>DL10-CS7599</td>\n",
              "      <td>8719</td>\n",
              "      <td>4.46</td>\n",
              "      <td>0</td>\n",
              "      <td>Golf Course Ext Rd, Delhi</td>\n",
              "    </tr>\n",
              "    <tr>\n",
              "      <th>3</th>\n",
              "      <td>2019</td>\n",
              "      <td>Maruti</td>\n",
              "      <td>Celerio</td>\n",
              "      <td>VXI</td>\n",
              "      <td>Manual</td>\n",
              "      <td>63194</td>\n",
              "      <td>1st Owner</td>\n",
              "      <td>Petrol</td>\n",
              "      <td>HR29-AT5606</td>\n",
              "      <td>7937</td>\n",
              "      <td>4.06</td>\n",
              "      <td>0</td>\n",
              "      <td>Golf Course Ext Rd, Delhi</td>\n",
              "    </tr>\n",
              "    <tr>\n",
              "      <th>4</th>\n",
              "      <td>2022</td>\n",
              "      <td>Hyundai</td>\n",
              "      <td>Creta</td>\n",
              "      <td>SX (O) 1.4 TURBO DCT</td>\n",
              "      <td>Automatic</td>\n",
              "      <td>40368</td>\n",
              "      <td>1st Owner</td>\n",
              "      <td>Petrol</td>\n",
              "      <td>UP15-DR5501</td>\n",
              "      <td>32149</td>\n",
              "      <td>16.89</td>\n",
              "      <td>0</td>\n",
              "      <td>Raj Nagar , Delhi</td>\n",
              "    </tr>\n",
              "  </tbody>\n",
              "</table>\n",
              "</div>\n",
              "    <div class=\"colab-df-buttons\">\n",
              "\n",
              "  <div class=\"colab-df-container\">\n",
              "    <button class=\"colab-df-convert\" onclick=\"convertToInteractive('df-1775c967-8514-4fc5-9c18-4e721dc4af60')\"\n",
              "            title=\"Convert this dataframe to an interactive table.\"\n",
              "            style=\"display:none;\">\n",
              "\n",
              "  <svg xmlns=\"http://www.w3.org/2000/svg\" height=\"24px\" viewBox=\"0 -960 960 960\">\n",
              "    <path d=\"M120-120v-720h720v720H120Zm60-500h600v-160H180v160Zm220 220h160v-160H400v160Zm0 220h160v-160H400v160ZM180-400h160v-160H180v160Zm440 0h160v-160H620v160ZM180-180h160v-160H180v160Zm440 0h160v-160H620v160Z\"/>\n",
              "  </svg>\n",
              "    </button>\n",
              "\n",
              "  <style>\n",
              "    .colab-df-container {\n",
              "      display:flex;\n",
              "      gap: 12px;\n",
              "    }\n",
              "\n",
              "    .colab-df-convert {\n",
              "      background-color: #E8F0FE;\n",
              "      border: none;\n",
              "      border-radius: 50%;\n",
              "      cursor: pointer;\n",
              "      display: none;\n",
              "      fill: #1967D2;\n",
              "      height: 32px;\n",
              "      padding: 0 0 0 0;\n",
              "      width: 32px;\n",
              "    }\n",
              "\n",
              "    .colab-df-convert:hover {\n",
              "      background-color: #E2EBFA;\n",
              "      box-shadow: 0px 1px 2px rgba(60, 64, 67, 0.3), 0px 1px 3px 1px rgba(60, 64, 67, 0.15);\n",
              "      fill: #174EA6;\n",
              "    }\n",
              "\n",
              "    .colab-df-buttons div {\n",
              "      margin-bottom: 4px;\n",
              "    }\n",
              "\n",
              "    [theme=dark] .colab-df-convert {\n",
              "      background-color: #3B4455;\n",
              "      fill: #D2E3FC;\n",
              "    }\n",
              "\n",
              "    [theme=dark] .colab-df-convert:hover {\n",
              "      background-color: #434B5C;\n",
              "      box-shadow: 0px 1px 3px 1px rgba(0, 0, 0, 0.15);\n",
              "      filter: drop-shadow(0px 1px 2px rgba(0, 0, 0, 0.3));\n",
              "      fill: #FFFFFF;\n",
              "    }\n",
              "  </style>\n",
              "\n",
              "    <script>\n",
              "      const buttonEl =\n",
              "        document.querySelector('#df-1775c967-8514-4fc5-9c18-4e721dc4af60 button.colab-df-convert');\n",
              "      buttonEl.style.display =\n",
              "        google.colab.kernel.accessAllowed ? 'block' : 'none';\n",
              "\n",
              "      async function convertToInteractive(key) {\n",
              "        const element = document.querySelector('#df-1775c967-8514-4fc5-9c18-4e721dc4af60');\n",
              "        const dataTable =\n",
              "          await google.colab.kernel.invokeFunction('convertToInteractive',\n",
              "                                                    [key], {});\n",
              "        if (!dataTable) return;\n",
              "\n",
              "        const docLinkHtml = 'Like what you see? Visit the ' +\n",
              "          '<a target=\"_blank\" href=https://colab.research.google.com/notebooks/data_table.ipynb>data table notebook</a>'\n",
              "          + ' to learn more about interactive tables.';\n",
              "        element.innerHTML = '';\n",
              "        dataTable['output_type'] = 'display_data';\n",
              "        await google.colab.output.renderOutput(dataTable, element);\n",
              "        const docLink = document.createElement('div');\n",
              "        docLink.innerHTML = docLinkHtml;\n",
              "        element.appendChild(docLink);\n",
              "      }\n",
              "    </script>\n",
              "  </div>\n",
              "\n",
              "\n",
              "<div id=\"df-8f0b189b-f08e-4618-a48a-07fb943f1fab\">\n",
              "  <button class=\"colab-df-quickchart\" onclick=\"quickchart('df-8f0b189b-f08e-4618-a48a-07fb943f1fab')\"\n",
              "            title=\"Suggest charts\"\n",
              "            style=\"display:none;\">\n",
              "\n",
              "<svg xmlns=\"http://www.w3.org/2000/svg\" height=\"24px\"viewBox=\"0 0 24 24\"\n",
              "     width=\"24px\">\n",
              "    <g>\n",
              "        <path d=\"M19 3H5c-1.1 0-2 .9-2 2v14c0 1.1.9 2 2 2h14c1.1 0 2-.9 2-2V5c0-1.1-.9-2-2-2zM9 17H7v-7h2v7zm4 0h-2V7h2v10zm4 0h-2v-4h2v4z\"/>\n",
              "    </g>\n",
              "</svg>\n",
              "  </button>\n",
              "\n",
              "<style>\n",
              "  .colab-df-quickchart {\n",
              "      --bg-color: #E8F0FE;\n",
              "      --fill-color: #1967D2;\n",
              "      --hover-bg-color: #E2EBFA;\n",
              "      --hover-fill-color: #174EA6;\n",
              "      --disabled-fill-color: #AAA;\n",
              "      --disabled-bg-color: #DDD;\n",
              "  }\n",
              "\n",
              "  [theme=dark] .colab-df-quickchart {\n",
              "      --bg-color: #3B4455;\n",
              "      --fill-color: #D2E3FC;\n",
              "      --hover-bg-color: #434B5C;\n",
              "      --hover-fill-color: #FFFFFF;\n",
              "      --disabled-bg-color: #3B4455;\n",
              "      --disabled-fill-color: #666;\n",
              "  }\n",
              "\n",
              "  .colab-df-quickchart {\n",
              "    background-color: var(--bg-color);\n",
              "    border: none;\n",
              "    border-radius: 50%;\n",
              "    cursor: pointer;\n",
              "    display: none;\n",
              "    fill: var(--fill-color);\n",
              "    height: 32px;\n",
              "    padding: 0;\n",
              "    width: 32px;\n",
              "  }\n",
              "\n",
              "  .colab-df-quickchart:hover {\n",
              "    background-color: var(--hover-bg-color);\n",
              "    box-shadow: 0 1px 2px rgba(60, 64, 67, 0.3), 0 1px 3px 1px rgba(60, 64, 67, 0.15);\n",
              "    fill: var(--button-hover-fill-color);\n",
              "  }\n",
              "\n",
              "  .colab-df-quickchart-complete:disabled,\n",
              "  .colab-df-quickchart-complete:disabled:hover {\n",
              "    background-color: var(--disabled-bg-color);\n",
              "    fill: var(--disabled-fill-color);\n",
              "    box-shadow: none;\n",
              "  }\n",
              "\n",
              "  .colab-df-spinner {\n",
              "    border: 2px solid var(--fill-color);\n",
              "    border-color: transparent;\n",
              "    border-bottom-color: var(--fill-color);\n",
              "    animation:\n",
              "      spin 1s steps(1) infinite;\n",
              "  }\n",
              "\n",
              "  @keyframes spin {\n",
              "    0% {\n",
              "      border-color: transparent;\n",
              "      border-bottom-color: var(--fill-color);\n",
              "      border-left-color: var(--fill-color);\n",
              "    }\n",
              "    20% {\n",
              "      border-color: transparent;\n",
              "      border-left-color: var(--fill-color);\n",
              "      border-top-color: var(--fill-color);\n",
              "    }\n",
              "    30% {\n",
              "      border-color: transparent;\n",
              "      border-left-color: var(--fill-color);\n",
              "      border-top-color: var(--fill-color);\n",
              "      border-right-color: var(--fill-color);\n",
              "    }\n",
              "    40% {\n",
              "      border-color: transparent;\n",
              "      border-right-color: var(--fill-color);\n",
              "      border-top-color: var(--fill-color);\n",
              "    }\n",
              "    60% {\n",
              "      border-color: transparent;\n",
              "      border-right-color: var(--fill-color);\n",
              "    }\n",
              "    80% {\n",
              "      border-color: transparent;\n",
              "      border-right-color: var(--fill-color);\n",
              "      border-bottom-color: var(--fill-color);\n",
              "    }\n",
              "    90% {\n",
              "      border-color: transparent;\n",
              "      border-bottom-color: var(--fill-color);\n",
              "    }\n",
              "  }\n",
              "</style>\n",
              "\n",
              "  <script>\n",
              "    async function quickchart(key) {\n",
              "      const quickchartButtonEl =\n",
              "        document.querySelector('#' + key + ' button');\n",
              "      quickchartButtonEl.disabled = true;  // To prevent multiple clicks.\n",
              "      quickchartButtonEl.classList.add('colab-df-spinner');\n",
              "      try {\n",
              "        const charts = await google.colab.kernel.invokeFunction(\n",
              "            'suggestCharts', [key], {});\n",
              "      } catch (error) {\n",
              "        console.error('Error during call to suggestCharts:', error);\n",
              "      }\n",
              "      quickchartButtonEl.classList.remove('colab-df-spinner');\n",
              "      quickchartButtonEl.classList.add('colab-df-quickchart-complete');\n",
              "    }\n",
              "    (() => {\n",
              "      let quickchartButtonEl =\n",
              "        document.querySelector('#df-8f0b189b-f08e-4618-a48a-07fb943f1fab button');\n",
              "      quickchartButtonEl.style.display =\n",
              "        google.colab.kernel.accessAllowed ? 'block' : 'none';\n",
              "    })();\n",
              "  </script>\n",
              "</div>\n",
              "\n",
              "    </div>\n",
              "  </div>\n"
            ],
            "application/vnd.google.colaboratory.intrinsic+json": {
              "type": "dataframe",
              "variable_name": "df",
              "summary": "{\n  \"name\": \"df\",\n  \"rows\": 1467,\n  \"fields\": [\n    {\n      \"column\": \"Car_Model\",\n      \"properties\": {\n        \"dtype\": \"number\",\n        \"std\": 3,\n        \"min\": 2010,\n        \"max\": 2024,\n        \"num_unique_values\": 15,\n        \"samples\": [\n          2024,\n          2012,\n          2016\n        ],\n        \"semantic_type\": \"\",\n        \"description\": \"\"\n      }\n    },\n    {\n      \"column\": \"Brand\",\n      \"properties\": {\n        \"dtype\": \"category\",\n        \"num_unique_values\": 15,\n        \"samples\": [\n          \"Skoda\",\n          \"Jeep\",\n          \"Maruti\"\n        ],\n        \"semantic_type\": \"\",\n        \"description\": \"\"\n      }\n    },\n    {\n      \"column\": \"Car_Name\",\n      \"properties\": {\n        \"dtype\": \"category\",\n        \"num_unique_values\": 86,\n        \"samples\": [\n          \"URBAN\",\n          \"Alto\",\n          \"XUV500\"\n        ],\n        \"semantic_type\": \"\",\n        \"description\": \"\"\n      }\n    },\n    {\n      \"column\": \"Car_Variant\",\n      \"properties\": {\n        \"dtype\": \"category\",\n        \"num_unique_values\": 518,\n        \"samples\": [\n          \"1.5L I-VTEC V AT\",\n          \"XZA PLUS (O) PETROL DUAL TONE\",\n          \"Brezza VXI AT SHVS\"\n        ],\n        \"semantic_type\": \"\",\n        \"description\": \"\"\n      }\n    },\n    {\n      \"column\": \"Car_Transmission\",\n      \"properties\": {\n        \"dtype\": \"category\",\n        \"num_unique_values\": 2,\n        \"samples\": [\n          \"Automatic\",\n          \"Manual\"\n        ],\n        \"semantic_type\": \"\",\n        \"description\": \"\"\n      }\n    },\n    {\n      \"column\": \"KM_Driven\",\n      \"properties\": {\n        \"dtype\": \"number\",\n        \"std\": 26676,\n        \"min\": 1166,\n        \"max\": 122390,\n        \"num_unique_values\": 1454,\n        \"samples\": [\n          62898,\n          76700\n        ],\n        \"semantic_type\": \"\",\n        \"description\": \"\"\n      }\n    },\n    {\n      \"column\": \"Owner_Type\",\n      \"properties\": {\n        \"dtype\": \"category\",\n        \"num_unique_values\": 3,\n        \"samples\": [\n          \"2nd Owner\",\n          \"1st Owner\"\n        ],\n        \"semantic_type\": \"\",\n        \"description\": \"\"\n      }\n    },\n    {\n      \"column\": \"Fuel_Type\",\n      \"properties\": {\n        \"dtype\": \"category\",\n        \"num_unique_values\": 4,\n        \"samples\": [\n          \"Diesel\",\n          \"Electric\"\n        ],\n        \"semantic_type\": \"\",\n        \"description\": \"\"\n      }\n    },\n    {\n      \"column\": \"Registration_ID\",\n      \"properties\": {\n        \"dtype\": \"string\",\n        \"num_unique_values\": 1467,\n        \"samples\": [\n          \"TS08-FQ9841\",\n          \"DL5C-R4877\"\n        ],\n        \"semantic_type\": \"\",\n        \"description\": \"\"\n      }\n    },\n    {\n      \"column\": \"Monthly_EMI\",\n      \"properties\": {\n        \"dtype\": \"number\",\n        \"std\": 5651,\n        \"min\": 4164,\n        \"max\": 72516,\n        \"num_unique_values\": 971,\n        \"samples\": [\n          16959,\n          9632\n        ],\n        \"semantic_type\": \"\",\n        \"description\": \"\"\n      }\n    },\n    {\n      \"column\": \"Car_Price(lakh)\",\n      \"properties\": {\n        \"dtype\": \"number\",\n        \"std\": 3.0081242599587488,\n        \"min\": 1.23,\n        \"max\": 22.15,\n        \"num_unique_values\": 767,\n        \"samples\": [\n          10.55,\n          4.05\n        ],\n        \"semantic_type\": \"\",\n        \"description\": \"\"\n      }\n    },\n    {\n      \"column\": \"Downpayment_Amount\",\n      \"properties\": {\n        \"dtype\": \"number\",\n        \"std\": 0,\n        \"min\": 0,\n        \"max\": 0,\n        \"num_unique_values\": 1,\n        \"samples\": [\n          0\n        ],\n        \"semantic_type\": \"\",\n        \"description\": \"\"\n      }\n    },\n    {\n      \"column\": \"Location\",\n      \"properties\": {\n        \"dtype\": \"category\",\n        \"num_unique_values\": 9,\n        \"samples\": [\n          \"Kompally, Hyderabad\"\n        ],\n        \"semantic_type\": \"\",\n        \"description\": \"\"\n      }\n    }\n  ]\n}"
            }
          },
          "metadata": {},
          "execution_count": 41
        }
      ]
    },
    {
      "cell_type": "code",
      "source": [
        "df.shape"
      ],
      "metadata": {
        "colab": {
          "base_uri": "https://localhost:8080/"
        },
        "id": "ZcoDYUQ2UiwH",
        "outputId": "27ed413f-7e15-48cc-d53f-28763e1496a2"
      },
      "execution_count": null,
      "outputs": [
        {
          "output_type": "execute_result",
          "data": {
            "text/plain": [
              "(1467, 13)"
            ]
          },
          "metadata": {},
          "execution_count": 43
        }
      ]
    },
    {
      "cell_type": "code",
      "source": [
        "#Getting the propertion of the values\n",
        "df.nunique()"
      ],
      "metadata": {
        "colab": {
          "base_uri": "https://localhost:8080/"
        },
        "id": "9wQP516qUrad",
        "outputId": "4f9de970-611a-4e8c-a4f6-efc7f9df9c9b"
      },
      "execution_count": null,
      "outputs": [
        {
          "output_type": "execute_result",
          "data": {
            "text/plain": [
              "Car_Model               15\n",
              "Brand                   15\n",
              "Car_Name                86\n",
              "Car_Variant            518\n",
              "Car_Transmission         2\n",
              "KM_Driven             1454\n",
              "Owner_Type               3\n",
              "Fuel_Type                4\n",
              "Registration_ID       1467\n",
              "Monthly_EMI            971\n",
              "Car_Price(lakh)        767\n",
              "Downpayment_Amount       1\n",
              "Location                 9\n",
              "dtype: int64"
            ]
          },
          "metadata": {},
          "execution_count": 45
        }
      ]
    },
    {
      "cell_type": "code",
      "source": [
        "df.dtypes"
      ],
      "metadata": {
        "colab": {
          "base_uri": "https://localhost:8080/"
        },
        "id": "y0RxgM_PUztN",
        "outputId": "0746cb4b-3be6-4d31-8b05-2db043e91fde"
      },
      "execution_count": null,
      "outputs": [
        {
          "output_type": "execute_result",
          "data": {
            "text/plain": [
              "Car_Model               int64\n",
              "Brand                  object\n",
              "Car_Name               object\n",
              "Car_Variant            object\n",
              "Car_Transmission       object\n",
              "KM_Driven               int64\n",
              "Owner_Type             object\n",
              "Fuel_Type              object\n",
              "Registration_ID        object\n",
              "Monthly_EMI             int64\n",
              "Car_Price(lakh)       float64\n",
              "Downpayment_Amount      int64\n",
              "Location               object\n",
              "dtype: object"
            ]
          },
          "metadata": {},
          "execution_count": 47
        }
      ]
    },
    {
      "cell_type": "code",
      "source": [
        "#Getting the idea about duplicates\n",
        "df.duplicated().sum()"
      ],
      "metadata": {
        "colab": {
          "base_uri": "https://localhost:8080/"
        },
        "id": "j9bWrD5PVAA0",
        "outputId": "0dc738f3-2b33-4c4b-9d73-401beb924835"
      },
      "execution_count": null,
      "outputs": [
        {
          "output_type": "execute_result",
          "data": {
            "text/plain": [
              "0"
            ]
          },
          "metadata": {},
          "execution_count": 48
        }
      ]
    },
    {
      "cell_type": "code",
      "source": [
        "#General information of datatypes\n",
        "df.info()"
      ],
      "metadata": {
        "colab": {
          "base_uri": "https://localhost:8080/"
        },
        "id": "8UnzpRNUY8cj",
        "outputId": "9189d4ff-1af6-4b45-a2f4-515f667e2794"
      },
      "execution_count": null,
      "outputs": [
        {
          "output_type": "stream",
          "name": "stdout",
          "text": [
            "<class 'pandas.core.frame.DataFrame'>\n",
            "RangeIndex: 1467 entries, 0 to 1466\n",
            "Data columns (total 13 columns):\n",
            " #   Column              Non-Null Count  Dtype  \n",
            "---  ------              --------------  -----  \n",
            " 0   Car_Model           1467 non-null   int64  \n",
            " 1   Brand               1467 non-null   object \n",
            " 2   Car_Name            1467 non-null   object \n",
            " 3   Car_Variant         1467 non-null   object \n",
            " 4   Car_Transmission    1467 non-null   object \n",
            " 5   KM_Driven           1467 non-null   int64  \n",
            " 6   Owner_Type          1467 non-null   object \n",
            " 7   Fuel_Type           1467 non-null   object \n",
            " 8   Registration_ID     1467 non-null   object \n",
            " 9   Monthly_EMI         1467 non-null   int64  \n",
            " 10  Car_Price(lakh)     1467 non-null   float64\n",
            " 11  Downpayment_Amount  1467 non-null   int64  \n",
            " 12  Location            1467 non-null   object \n",
            "dtypes: float64(1), int64(4), object(8)\n",
            "memory usage: 149.1+ KB\n"
          ]
        }
      ]
    },
    {
      "cell_type": "code",
      "source": [
        "#Statistical Analysis\n",
        "df.describe()"
      ],
      "metadata": {
        "colab": {
          "base_uri": "https://localhost:8080/",
          "height": 320
        },
        "id": "80X8H-xeZHtr",
        "outputId": "d374cbc3-a9a3-4568-be33-828829872b08"
      },
      "execution_count": null,
      "outputs": [
        {
          "output_type": "execute_result",
          "data": {
            "text/plain": [
              "         Car_Model      KM_Driven   Monthly_EMI  Car_Price(lakh)  \\\n",
              "count  1467.000000    1467.000000   1467.000000      1467.000000   \n",
              "mean   2018.006817   51877.319700  12677.784594         6.210845   \n",
              "std       3.031658   26676.180968   5651.364043         3.008124   \n",
              "min    2010.000000    1166.000000   4164.000000         1.230000   \n",
              "25%    2016.000000   30895.500000   8791.000000         4.140000   \n",
              "50%    2018.000000   49080.000000  11359.000000         5.560000   \n",
              "75%    2020.000000   70231.500000  15180.500000         7.570000   \n",
              "max    2024.000000  122390.000000  72516.000000        22.150000   \n",
              "\n",
              "       Downpayment_Amount  \n",
              "count              1467.0  \n",
              "mean                  0.0  \n",
              "std                   0.0  \n",
              "min                   0.0  \n",
              "25%                   0.0  \n",
              "50%                   0.0  \n",
              "75%                   0.0  \n",
              "max                   0.0  "
            ],
            "text/html": [
              "\n",
              "  <div id=\"df-72b5f1a0-c68f-4471-bb33-ec55df2b3515\" class=\"colab-df-container\">\n",
              "    <div>\n",
              "<style scoped>\n",
              "    .dataframe tbody tr th:only-of-type {\n",
              "        vertical-align: middle;\n",
              "    }\n",
              "\n",
              "    .dataframe tbody tr th {\n",
              "        vertical-align: top;\n",
              "    }\n",
              "\n",
              "    .dataframe thead th {\n",
              "        text-align: right;\n",
              "    }\n",
              "</style>\n",
              "<table border=\"1\" class=\"dataframe\">\n",
              "  <thead>\n",
              "    <tr style=\"text-align: right;\">\n",
              "      <th></th>\n",
              "      <th>Car_Model</th>\n",
              "      <th>KM_Driven</th>\n",
              "      <th>Monthly_EMI</th>\n",
              "      <th>Car_Price(lakh)</th>\n",
              "      <th>Downpayment_Amount</th>\n",
              "    </tr>\n",
              "  </thead>\n",
              "  <tbody>\n",
              "    <tr>\n",
              "      <th>count</th>\n",
              "      <td>1467.000000</td>\n",
              "      <td>1467.000000</td>\n",
              "      <td>1467.000000</td>\n",
              "      <td>1467.000000</td>\n",
              "      <td>1467.0</td>\n",
              "    </tr>\n",
              "    <tr>\n",
              "      <th>mean</th>\n",
              "      <td>2018.006817</td>\n",
              "      <td>51877.319700</td>\n",
              "      <td>12677.784594</td>\n",
              "      <td>6.210845</td>\n",
              "      <td>0.0</td>\n",
              "    </tr>\n",
              "    <tr>\n",
              "      <th>std</th>\n",
              "      <td>3.031658</td>\n",
              "      <td>26676.180968</td>\n",
              "      <td>5651.364043</td>\n",
              "      <td>3.008124</td>\n",
              "      <td>0.0</td>\n",
              "    </tr>\n",
              "    <tr>\n",
              "      <th>min</th>\n",
              "      <td>2010.000000</td>\n",
              "      <td>1166.000000</td>\n",
              "      <td>4164.000000</td>\n",
              "      <td>1.230000</td>\n",
              "      <td>0.0</td>\n",
              "    </tr>\n",
              "    <tr>\n",
              "      <th>25%</th>\n",
              "      <td>2016.000000</td>\n",
              "      <td>30895.500000</td>\n",
              "      <td>8791.000000</td>\n",
              "      <td>4.140000</td>\n",
              "      <td>0.0</td>\n",
              "    </tr>\n",
              "    <tr>\n",
              "      <th>50%</th>\n",
              "      <td>2018.000000</td>\n",
              "      <td>49080.000000</td>\n",
              "      <td>11359.000000</td>\n",
              "      <td>5.560000</td>\n",
              "      <td>0.0</td>\n",
              "    </tr>\n",
              "    <tr>\n",
              "      <th>75%</th>\n",
              "      <td>2020.000000</td>\n",
              "      <td>70231.500000</td>\n",
              "      <td>15180.500000</td>\n",
              "      <td>7.570000</td>\n",
              "      <td>0.0</td>\n",
              "    </tr>\n",
              "    <tr>\n",
              "      <th>max</th>\n",
              "      <td>2024.000000</td>\n",
              "      <td>122390.000000</td>\n",
              "      <td>72516.000000</td>\n",
              "      <td>22.150000</td>\n",
              "      <td>0.0</td>\n",
              "    </tr>\n",
              "  </tbody>\n",
              "</table>\n",
              "</div>\n",
              "    <div class=\"colab-df-buttons\">\n",
              "\n",
              "  <div class=\"colab-df-container\">\n",
              "    <button class=\"colab-df-convert\" onclick=\"convertToInteractive('df-72b5f1a0-c68f-4471-bb33-ec55df2b3515')\"\n",
              "            title=\"Convert this dataframe to an interactive table.\"\n",
              "            style=\"display:none;\">\n",
              "\n",
              "  <svg xmlns=\"http://www.w3.org/2000/svg\" height=\"24px\" viewBox=\"0 -960 960 960\">\n",
              "    <path d=\"M120-120v-720h720v720H120Zm60-500h600v-160H180v160Zm220 220h160v-160H400v160Zm0 220h160v-160H400v160ZM180-400h160v-160H180v160Zm440 0h160v-160H620v160ZM180-180h160v-160H180v160Zm440 0h160v-160H620v160Z\"/>\n",
              "  </svg>\n",
              "    </button>\n",
              "\n",
              "  <style>\n",
              "    .colab-df-container {\n",
              "      display:flex;\n",
              "      gap: 12px;\n",
              "    }\n",
              "\n",
              "    .colab-df-convert {\n",
              "      background-color: #E8F0FE;\n",
              "      border: none;\n",
              "      border-radius: 50%;\n",
              "      cursor: pointer;\n",
              "      display: none;\n",
              "      fill: #1967D2;\n",
              "      height: 32px;\n",
              "      padding: 0 0 0 0;\n",
              "      width: 32px;\n",
              "    }\n",
              "\n",
              "    .colab-df-convert:hover {\n",
              "      background-color: #E2EBFA;\n",
              "      box-shadow: 0px 1px 2px rgba(60, 64, 67, 0.3), 0px 1px 3px 1px rgba(60, 64, 67, 0.15);\n",
              "      fill: #174EA6;\n",
              "    }\n",
              "\n",
              "    .colab-df-buttons div {\n",
              "      margin-bottom: 4px;\n",
              "    }\n",
              "\n",
              "    [theme=dark] .colab-df-convert {\n",
              "      background-color: #3B4455;\n",
              "      fill: #D2E3FC;\n",
              "    }\n",
              "\n",
              "    [theme=dark] .colab-df-convert:hover {\n",
              "      background-color: #434B5C;\n",
              "      box-shadow: 0px 1px 3px 1px rgba(0, 0, 0, 0.15);\n",
              "      filter: drop-shadow(0px 1px 2px rgba(0, 0, 0, 0.3));\n",
              "      fill: #FFFFFF;\n",
              "    }\n",
              "  </style>\n",
              "\n",
              "    <script>\n",
              "      const buttonEl =\n",
              "        document.querySelector('#df-72b5f1a0-c68f-4471-bb33-ec55df2b3515 button.colab-df-convert');\n",
              "      buttonEl.style.display =\n",
              "        google.colab.kernel.accessAllowed ? 'block' : 'none';\n",
              "\n",
              "      async function convertToInteractive(key) {\n",
              "        const element = document.querySelector('#df-72b5f1a0-c68f-4471-bb33-ec55df2b3515');\n",
              "        const dataTable =\n",
              "          await google.colab.kernel.invokeFunction('convertToInteractive',\n",
              "                                                    [key], {});\n",
              "        if (!dataTable) return;\n",
              "\n",
              "        const docLinkHtml = 'Like what you see? Visit the ' +\n",
              "          '<a target=\"_blank\" href=https://colab.research.google.com/notebooks/data_table.ipynb>data table notebook</a>'\n",
              "          + ' to learn more about interactive tables.';\n",
              "        element.innerHTML = '';\n",
              "        dataTable['output_type'] = 'display_data';\n",
              "        await google.colab.output.renderOutput(dataTable, element);\n",
              "        const docLink = document.createElement('div');\n",
              "        docLink.innerHTML = docLinkHtml;\n",
              "        element.appendChild(docLink);\n",
              "      }\n",
              "    </script>\n",
              "  </div>\n",
              "\n",
              "\n",
              "<div id=\"df-218b1e6e-5833-4c1a-96ab-fc10b1b13e6f\">\n",
              "  <button class=\"colab-df-quickchart\" onclick=\"quickchart('df-218b1e6e-5833-4c1a-96ab-fc10b1b13e6f')\"\n",
              "            title=\"Suggest charts\"\n",
              "            style=\"display:none;\">\n",
              "\n",
              "<svg xmlns=\"http://www.w3.org/2000/svg\" height=\"24px\"viewBox=\"0 0 24 24\"\n",
              "     width=\"24px\">\n",
              "    <g>\n",
              "        <path d=\"M19 3H5c-1.1 0-2 .9-2 2v14c0 1.1.9 2 2 2h14c1.1 0 2-.9 2-2V5c0-1.1-.9-2-2-2zM9 17H7v-7h2v7zm4 0h-2V7h2v10zm4 0h-2v-4h2v4z\"/>\n",
              "    </g>\n",
              "</svg>\n",
              "  </button>\n",
              "\n",
              "<style>\n",
              "  .colab-df-quickchart {\n",
              "      --bg-color: #E8F0FE;\n",
              "      --fill-color: #1967D2;\n",
              "      --hover-bg-color: #E2EBFA;\n",
              "      --hover-fill-color: #174EA6;\n",
              "      --disabled-fill-color: #AAA;\n",
              "      --disabled-bg-color: #DDD;\n",
              "  }\n",
              "\n",
              "  [theme=dark] .colab-df-quickchart {\n",
              "      --bg-color: #3B4455;\n",
              "      --fill-color: #D2E3FC;\n",
              "      --hover-bg-color: #434B5C;\n",
              "      --hover-fill-color: #FFFFFF;\n",
              "      --disabled-bg-color: #3B4455;\n",
              "      --disabled-fill-color: #666;\n",
              "  }\n",
              "\n",
              "  .colab-df-quickchart {\n",
              "    background-color: var(--bg-color);\n",
              "    border: none;\n",
              "    border-radius: 50%;\n",
              "    cursor: pointer;\n",
              "    display: none;\n",
              "    fill: var(--fill-color);\n",
              "    height: 32px;\n",
              "    padding: 0;\n",
              "    width: 32px;\n",
              "  }\n",
              "\n",
              "  .colab-df-quickchart:hover {\n",
              "    background-color: var(--hover-bg-color);\n",
              "    box-shadow: 0 1px 2px rgba(60, 64, 67, 0.3), 0 1px 3px 1px rgba(60, 64, 67, 0.15);\n",
              "    fill: var(--button-hover-fill-color);\n",
              "  }\n",
              "\n",
              "  .colab-df-quickchart-complete:disabled,\n",
              "  .colab-df-quickchart-complete:disabled:hover {\n",
              "    background-color: var(--disabled-bg-color);\n",
              "    fill: var(--disabled-fill-color);\n",
              "    box-shadow: none;\n",
              "  }\n",
              "\n",
              "  .colab-df-spinner {\n",
              "    border: 2px solid var(--fill-color);\n",
              "    border-color: transparent;\n",
              "    border-bottom-color: var(--fill-color);\n",
              "    animation:\n",
              "      spin 1s steps(1) infinite;\n",
              "  }\n",
              "\n",
              "  @keyframes spin {\n",
              "    0% {\n",
              "      border-color: transparent;\n",
              "      border-bottom-color: var(--fill-color);\n",
              "      border-left-color: var(--fill-color);\n",
              "    }\n",
              "    20% {\n",
              "      border-color: transparent;\n",
              "      border-left-color: var(--fill-color);\n",
              "      border-top-color: var(--fill-color);\n",
              "    }\n",
              "    30% {\n",
              "      border-color: transparent;\n",
              "      border-left-color: var(--fill-color);\n",
              "      border-top-color: var(--fill-color);\n",
              "      border-right-color: var(--fill-color);\n",
              "    }\n",
              "    40% {\n",
              "      border-color: transparent;\n",
              "      border-right-color: var(--fill-color);\n",
              "      border-top-color: var(--fill-color);\n",
              "    }\n",
              "    60% {\n",
              "      border-color: transparent;\n",
              "      border-right-color: var(--fill-color);\n",
              "    }\n",
              "    80% {\n",
              "      border-color: transparent;\n",
              "      border-right-color: var(--fill-color);\n",
              "      border-bottom-color: var(--fill-color);\n",
              "    }\n",
              "    90% {\n",
              "      border-color: transparent;\n",
              "      border-bottom-color: var(--fill-color);\n",
              "    }\n",
              "  }\n",
              "</style>\n",
              "\n",
              "  <script>\n",
              "    async function quickchart(key) {\n",
              "      const quickchartButtonEl =\n",
              "        document.querySelector('#' + key + ' button');\n",
              "      quickchartButtonEl.disabled = true;  // To prevent multiple clicks.\n",
              "      quickchartButtonEl.classList.add('colab-df-spinner');\n",
              "      try {\n",
              "        const charts = await google.colab.kernel.invokeFunction(\n",
              "            'suggestCharts', [key], {});\n",
              "      } catch (error) {\n",
              "        console.error('Error during call to suggestCharts:', error);\n",
              "      }\n",
              "      quickchartButtonEl.classList.remove('colab-df-spinner');\n",
              "      quickchartButtonEl.classList.add('colab-df-quickchart-complete');\n",
              "    }\n",
              "    (() => {\n",
              "      let quickchartButtonEl =\n",
              "        document.querySelector('#df-218b1e6e-5833-4c1a-96ab-fc10b1b13e6f button');\n",
              "      quickchartButtonEl.style.display =\n",
              "        google.colab.kernel.accessAllowed ? 'block' : 'none';\n",
              "    })();\n",
              "  </script>\n",
              "</div>\n",
              "\n",
              "    </div>\n",
              "  </div>\n"
            ],
            "application/vnd.google.colaboratory.intrinsic+json": {
              "type": "dataframe",
              "summary": "{\n  \"name\": \"df\",\n  \"rows\": 8,\n  \"fields\": [\n    {\n      \"column\": \"Car_Model\",\n      \"properties\": {\n        \"dtype\": \"number\",\n        \"std\": 711.0860024634262,\n        \"min\": 3.0316578647754238,\n        \"max\": 2024.0,\n        \"num_unique_values\": 8,\n        \"samples\": [\n          2018.0068166325834,\n          2018.0,\n          1467.0\n        ],\n        \"semantic_type\": \"\",\n        \"description\": \"\"\n      }\n    },\n    {\n      \"column\": \"KM_Driven\",\n      \"properties\": {\n        \"dtype\": \"number\",\n        \"std\": 39706.413515182416,\n        \"min\": 1166.0,\n        \"max\": 122390.0,\n        \"num_unique_values\": 8,\n        \"samples\": [\n          51877.31970006817,\n          49080.0,\n          1467.0\n        ],\n        \"semantic_type\": \"\",\n        \"description\": \"\"\n      }\n    },\n    {\n      \"column\": \"Monthly_EMI\",\n      \"properties\": {\n        \"dtype\": \"number\",\n        \"std\": 23101.81638772268,\n        \"min\": 1467.0,\n        \"max\": 72516.0,\n        \"num_unique_values\": 8,\n        \"samples\": [\n          12677.784594410361,\n          11359.0,\n          1467.0\n        ],\n        \"semantic_type\": \"\",\n        \"description\": \"\"\n      }\n    },\n    {\n      \"column\": \"Car_Price(lakh)\",\n      \"properties\": {\n        \"dtype\": \"number\",\n        \"std\": 516.1841702162603,\n        \"min\": 1.23,\n        \"max\": 1467.0,\n        \"num_unique_values\": 8,\n        \"samples\": [\n          6.210845262440356,\n          5.56,\n          1467.0\n        ],\n        \"semantic_type\": \"\",\n        \"description\": \"\"\n      }\n    },\n    {\n      \"column\": \"Downpayment_Amount\",\n      \"properties\": {\n        \"dtype\": \"number\",\n        \"std\": 518.6628240003326,\n        \"min\": 0.0,\n        \"max\": 1467.0,\n        \"num_unique_values\": 2,\n        \"samples\": [\n          0.0,\n          1467.0\n        ],\n        \"semantic_type\": \"\",\n        \"description\": \"\"\n      }\n    }\n  ]\n}"
            }
          },
          "metadata": {},
          "execution_count": 50
        }
      ]
    },
    {
      "cell_type": "code",
      "source": [
        "#Getting the idea about null values\n",
        "df.isnull().sum()"
      ],
      "metadata": {
        "colab": {
          "base_uri": "https://localhost:8080/"
        },
        "id": "sp7iQ6B0Z7pW",
        "outputId": "c7c8eada-a2d5-4e6d-a410-81551afa9c22"
      },
      "execution_count": null,
      "outputs": [
        {
          "output_type": "execute_result",
          "data": {
            "text/plain": [
              "Car_Model             0\n",
              "Brand                 0\n",
              "Car_Name              0\n",
              "Car_Variant           0\n",
              "Car_Transmission      0\n",
              "KM_Driven             0\n",
              "Owner_Type            0\n",
              "Fuel_Type             0\n",
              "Registration_ID       0\n",
              "Monthly_EMI           0\n",
              "Car_Price(lakh)       0\n",
              "Downpayment_Amount    0\n",
              "Location              0\n",
              "dtype: int64"
            ]
          },
          "metadata": {},
          "execution_count": 53
        }
      ]
    },
    {
      "cell_type": "code",
      "source": [
        "#Average price per Brand\n",
        "df.groupby(\"Brand\")[\"Car_Price(lakh)\"].mean()"
      ],
      "metadata": {
        "colab": {
          "base_uri": "https://localhost:8080/"
        },
        "id": "Nh6beQKibY6p",
        "outputId": "2d78ece2-c9c0-4146-ba36-ed7f06ef6871"
      },
      "execution_count": null,
      "outputs": [
        {
          "output_type": "execute_result",
          "data": {
            "text/plain": [
              "Brand\n",
              "Datsun         3.422632\n",
              "Ford           6.504211\n",
              "Honda          5.784564\n",
              "Hyundai        6.005877\n",
              "Jeep          11.077778\n",
              "KIA           11.569091\n",
              "MG            14.220000\n",
              "Mahindra      10.355208\n",
              "Maruti         5.163258\n",
              "Nissan         6.443478\n",
              "Renault        5.321690\n",
              "Skoda          8.764615\n",
              "Tata           7.875000\n",
              "Toyota         6.019167\n",
              "Volkswagen     7.436552\n",
              "Name: Car_Price(lakh), dtype: float64"
            ]
          },
          "metadata": {},
          "execution_count": 57
        }
      ]
    },
    {
      "cell_type": "code",
      "source": [
        "#propertion of values\n",
        "df['Fuel_Type'].value_counts()"
      ],
      "metadata": {
        "colab": {
          "base_uri": "https://localhost:8080/"
        },
        "id": "1VVrjEIqc_XW",
        "outputId": "bcd41d49-3b8c-4387-f87c-bfca0cd37898"
      },
      "execution_count": null,
      "outputs": [
        {
          "output_type": "execute_result",
          "data": {
            "text/plain": [
              "Fuel_Type\n",
              "Petrol      1285\n",
              "Diesel       126\n",
              "CNG           55\n",
              "Electric       1\n",
              "Name: count, dtype: int64"
            ]
          },
          "metadata": {},
          "execution_count": 70
        }
      ]
    },
    {
      "cell_type": "code",
      "source": [
        "#propertion of values\n",
        "df['Owner_Type'].value_counts()"
      ],
      "metadata": {
        "colab": {
          "base_uri": "https://localhost:8080/"
        },
        "id": "pnxN3fYTdNaB",
        "outputId": "206f6922-9c1b-41e0-df76-4c8f7c225518"
      },
      "execution_count": null,
      "outputs": [
        {
          "output_type": "execute_result",
          "data": {
            "text/plain": [
              "Owner_Type\n",
              "1st Owner    1085\n",
              "2nd Owner     352\n",
              "3rd Owner      30\n",
              "Name: count, dtype: int64"
            ]
          },
          "metadata": {},
          "execution_count": 71
        }
      ]
    },
    {
      "cell_type": "code",
      "source": [
        "#Data Visualisation\n",
        "plt.figure(figsize=(10,8))\n",
        "sns.histplot(df['Car_Price(lakh)'], bins = 30, kde = True)\n",
        "plt.title('Distribution of Car Prices')\n",
        "plt.xlabel('Car Prices')\n",
        "plt.ylabel('Frequency')\n",
        "plt.show()"
      ],
      "metadata": {
        "colab": {
          "base_uri": "https://localhost:8080/",
          "height": 536
        },
        "id": "hgQ5-krnigwH",
        "outputId": "0cec322f-7f6a-414b-a304-d874c8a6c5dd"
      },
      "execution_count": null,
      "outputs": [
        {
          "output_type": "display_data",
          "data": {
            "text/plain": [
              "<Figure size 1000x800 with 1 Axes>"
            ],
            "image/png": "[encoded data removed]"
          },
          "metadata": {}
        }
      ]
    },
    {
      "cell_type": "code",
      "source": [
        "df['Car_Price(lakh)'].describe()"
      ],
      "metadata": {
        "id": "UP7IzMd7jL7Q",
        "colab": {
          "base_uri": "https://localhost:8080/"
        },
        "outputId": "21e312bb-615c-4f8f-db97-7810ee9c0d87"
      },
      "execution_count": 73,
      "outputs": [
        {
          "output_type": "execute_result",
          "data": {
            "text/plain": [
              "count    1467.000000\n",
              "mean        6.210845\n",
              "std         3.008124\n",
              "min         1.230000\n",
              "25%         4.140000\n",
              "50%         5.560000\n",
              "75%         7.570000\n",
              "max        22.150000\n",
              "Name: Car_Price(lakh), dtype: float64"
            ]
          },
          "metadata": {},
          "execution_count": 73
        }
      ]
    },
    {
      "cell_type": "code",
      "source": [
        "df1 = df.to_excel('car_data_cleaned.xlsx', index=False)"
      ],
      "metadata": {
        "id": "0SCy_hF2wEEG"
      },
      "execution_count": 76,
      "outputs": []
    },
    {
      "cell_type": "code",
      "source": [
        "df1"
      ],
      "metadata": {
        "id": "5J2Pn5JDwNAR"
      },
      "execution_count": 78,
      "outputs": []
    },
    {
      "cell_type": "code",
      "source": [
        "df.rename(columns={'Car_Price(lakh)': 'Car_Price'}, inplace=True)"
      ],
      "metadata": {
        "id": "a4uw7_gfwUGm"
      },
      "execution_count": 79,
      "outputs": []
    },
    {
      "cell_type": "code",
      "source": [
        "df.to_csv('car_data_cleaned.csv', index=False)"
      ],
      "metadata": {
        "id": "Q4MejD6A09-i"
      },
      "execution_count": 80,
      "outputs": []
    },
    {
      "cell_type": "code",
      "source": [
        "df.to_excel('car_data.xlsx', index=False)"
      ],
      "metadata": {
        "id": "iQD51j4v1Cqc"
      },
      "execution_count": 85,
      "outputs": []
    },
    {
      "cell_type": "code",
      "source": [],
      "metadata": {
        "id": "XhCKg11r4EaA"
      },
      "execution_count": null,
      "outputs": []
    }
  ]
}